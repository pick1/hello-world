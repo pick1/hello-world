{
 "cells": [
  {
   "cell_type": "code",
   "execution_count": 11,
   "metadata": {},
   "outputs": [
    {
     "name": "stdout",
     "output_type": "stream",
     "text": [
      "['male']\n"
     ]
    }
   ],
   "source": [
    "from sklearn import tree\n",
    "\n",
    "#[height, weight, shoe size]\n",
    "X = [[181,80,44],[177,70,43], [160,60,38],[154,54,37],\n",
    "    [166,65,40], [190, 90, 47], [175,64, 39], [177,70,40],\n",
    "    [159, 55, 37], [171, 75,42], [181,85,43]]\n",
    "\n",
    "Y = ['male', 'female', 'female', 'female', 'male', 'male',\n",
    "     'male', 'female', 'male', 'female', 'male']\n",
    "\n",
    "clf = tree.DecisionTreeClassifier()\n",
    "\n",
    "clf = clf.fit(X,Y)\n",
    "\n",
    "prediction = clf.predict([[190, 70, 43]])\n",
    "print(prediction)"
   ]
  }
 ],
 "metadata": {
  "kernelspec": {
   "display_name": "Python 3",
   "language": "python",
   "name": "python3"
  },
  "language_info": {
   "codemirror_mode": {
    "name": "ipython",
    "version": 2
   },
   "file_extension": ".py",
   "mimetype": "text/x-python",
   "name": "python",
   "nbconvert_exporter": "python",
   "pygments_lexer": "ipython2",
   "version": "2.7.12"
  }
 },
 "nbformat": 4,
 "nbformat_minor": 2
}
