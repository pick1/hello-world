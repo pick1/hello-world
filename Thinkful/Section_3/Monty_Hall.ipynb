{
 "cells": [
  {
   "cell_type": "markdown",
   "metadata": {},
   "source": [
    "# Monty Hall\n",
    "#### One of the classic problems in this space is referred to as the Monty Hall Problem. Some people even use this as an interview question! It is deceptively simple, and really digging into it reveals a myriad of approaches and some serious applications of conditional probability. The story goes like this:\n",
    "\n",
    "#### You are on a game show and given the choice of whatever is behind three doors. Behind one door is a fantastic prize (some examples use a car, others use cash) while behind the other two doors is a dud (some examples say a goat, others say it's just empty). You pick a door. Then the host opens one of the other two doors to reveal a dud. But here's the wrinkle: the host now gives you the opportunity to switch your door. What should you do?\n",
    "\n",
    "Initially there is a 1/3 chance of winning the prize. So, if choose door number one, I had a 1/3 chance of winning the prize.  \n",
    "\n",
    "After host the opens one of the doors, say door 2, to reveal a dud. It would appear the door 2's likelihood of having the prize has been redistributed to door 3. Revealing the dud escalated door 3's probability of having the prize is now 2/3 more likely. Thus making the choice of switching doors statistically more attractive.\n",
    "\n",
    "Another way to look at the problem would be to have 50 doors with one door prize. Once a doors is chosen the host duds all but two doors - chosen door and possible prize door. Now the odds went from being 1/50 of winning to 49/50 of switching and winning. Now it feels like a no-brainer - switch doors."
   ]
  }
 ],
 "metadata": {
  "kernelspec": {
   "display_name": "Python 3",
   "language": "python",
   "name": "python3"
  },
  "language_info": {
   "codemirror_mode": {
    "name": "ipython",
    "version": 3
   },
   "file_extension": ".py",
   "mimetype": "text/x-python",
   "name": "python",
   "nbconvert_exporter": "python",
   "pygments_lexer": "ipython3",
   "version": "3.5.2"
  }
 },
 "nbformat": 4,
 "nbformat_minor": 2
}
