{
 "cells": [
  {
   "cell_type": "markdown",
   "metadata": {},
   "source": [
    "#### 1\n",
    "Calculate the probability of flipping a balanced coin four times and getting each pattern: HTTH, HHHH and TTHH.\n",
    "\n",
    "ph = P(H) = 1/2\n",
    "\n",
    "pt = P(T) = 1/2"
   ]
  },
  {
   "cell_type": "code",
   "execution_count": 7,
   "metadata": {},
   "outputs": [
    {
     "name": "stdout",
     "output_type": "stream",
     "text": [
      "HTTH 0.0625\n",
      "HHHH 0.0625\n",
      "TTHH 0.0625\n"
     ]
    }
   ],
   "source": [
    "ph = .5\n",
    "pt = .5\n",
    "print('HTTH', float(ph*pt*pt*ph))\n",
    "print('HHHH', float(ph*ph*ph*ph))\n",
    "print('TTHH', float(pt*pt*ph*ph))"
   ]
  },
  {
   "cell_type": "markdown",
   "metadata": {},
   "source": [
    "#### 2\n",
    "If a list of people has 24 women and 21 men, then the probability of choosing a man from the list is 21/45. What is the probability of not choosing a man?\n",
    "\n",
    "man = 21/45\n",
    "\n",
    "not man = 24/45"
   ]
  },
  {
   "cell_type": "markdown",
   "metadata": {},
   "source": [
    "#### 3\n",
    "The probability that Bernice will travel by plane sometime in the next year is 10%. The probability of a plane crash at any time is .005%. What is the probability that Bernice will be in a plane crash sometime in the next year?"
   ]
  },
  {
   "cell_type": "code",
   "execution_count": 11,
   "metadata": {},
   "outputs": [
    {
     "name": "stdout",
     "output_type": "stream",
     "text": [
      "Bernice's chance of being in a crash are:  0.0005 %\n"
     ]
    }
   ],
   "source": [
    "Bernice_Flight = .1\n",
    "Flight_Crash = .00005\n",
    "print(\"Bernice's chance of being in a crash are: \",((Bernice_Flight * Flight_Crash) * 100),'%')"
   ]
  },
  {
   "cell_type": "markdown",
   "metadata": {},
   "source": [
    "#### 4\n",
    "A data scientist wants to study the behavior of users on the company website. Each time a user clicks on a link on the website, there is a 5% chance that the user will be asked to complete a short survey about their behavior on the website. The data scientist uses the survey data to conclude that, on average, users spend 15 minutes surfing the company website before moving on to other things. What is wrong with this conclusion?\n",
    "\n",
    "The conclusion assumes incorrectly that users are spending 15 minutes on the company site when 95% of the time users are not surveyed. There would appear to be either a large number of population not being surveyed, or the 5% of users surveyed are there long enough to reach the concluded 15 minute average. Either way the 5% sample size does not seem representative of the population."
   ]
  },
  {
   "cell_type": "code",
   "execution_count": null,
   "metadata": {},
   "outputs": [],
   "source": []
  }
 ],
 "metadata": {
  "kernelspec": {
   "display_name": "Python 3",
   "language": "python",
   "name": "python3"
  },
  "language_info": {
   "codemirror_mode": {
    "name": "ipython",
    "version": 3
   },
   "file_extension": ".py",
   "mimetype": "text/x-python",
   "name": "python",
   "nbconvert_exporter": "python",
   "pygments_lexer": "ipython3",
   "version": "3.5.2"
  }
 },
 "nbformat": 4,
 "nbformat_minor": 2
}
