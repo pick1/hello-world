{
 "cells": [
  {
   "cell_type": "markdown",
   "metadata": {},
   "source": [
    "# Evaluating Datasets Drill"
   ]
  },
  {
   "cell_type": "markdown",
   "metadata": {},
   "source": [
    "#### Data Source: Amsterdam availability data scraped from AirBnB on December 24th. Question: What are the popular neighborhoods in Amsterdam?"
   ]
  },
  {
   "cell_type": "markdown",
   "metadata": {},
   "source": [
    "This dataset would be biased because of the date. Identifying popular Amsterdam neighborhoods on Christmas Eve would make it difficult to define 'popular'. Due to the Christmas holidays heavily traveled, all available AirBnB properties could be booked and possibly making any neighborhood 'popular'.\n",
    "\n",
    "A way around this would be to take availability data from other dates throughout the year thereby offsetting the effects of the Christmas holiday."
   ]
  },
  {
   "cell_type": "markdown",
   "metadata": {},
   "source": [
    "#### Data Source: Mental health services use on September 12, 2001 in San Francisco, CA and New York City, NY. Question: How do patterns of mental health service use vary between cities?\n",
    "\n",
    "This dataset would be biased due to the dataset's date being so close to 9/11. Due to the traumatic nature of 9/11 and New York City, NY being so impacted it is likely that the New York portion of the mental health use data would show a largeincrese in use as may San Francisco's (due to the traumatic nature of the 9/11 attacks). \n",
    "\n",
    "A way to offset the effects of the 9/11 attacks on the data would be to sample either September 12 data from previous years or, sample other dates from the rest of the year."
   ]
  },
  {
   "cell_type": "markdown",
   "metadata": {},
   "source": [
    "#### Data Source: Armenian Pub Survey. Question: What are the most common reasons Armenians visit local pubs?\n",
    "\n",
    "According to the Armenian Pub Survey the most common reasons Armenians give for for visiting the pubs is to hangout with friends.\n",
    "\n",
    "This data is biases because it appears to be solely a survey of Armenian students. Who appear to enjoy socializing when not studying. A way to get a better sample would be to either survey other aspects of Armenina society e.g. (doctors, plumbers, teachers, artists, etc...). The other way to get a better sample would be by surveying pub-age students from different cultures (American, English, Japanese, etc...). Sample sizes would therefore be more indicative of why 'Armenians' go to the pub."
   ]
  }
 ],
 "metadata": {
  "kernelspec": {
   "display_name": "Python 3",
   "language": "python",
   "name": "python3"
  },
  "language_info": {
   "codemirror_mode": {
    "name": "ipython",
    "version": 3
   },
   "file_extension": ".py",
   "mimetype": "text/x-python",
   "name": "python",
   "nbconvert_exporter": "python",
   "pygments_lexer": "ipython3",
   "version": "3.5.2"
  }
 },
 "nbformat": 4,
 "nbformat_minor": 2
}
