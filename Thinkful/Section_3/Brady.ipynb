{
 "cells": [
  {
   "cell_type": "markdown",
   "metadata": {},
   "source": [
    "### Brady kids' ages\n",
    "Greg was 14, Marcia was 12, Peter was 11, Jan was 10, Bobby was 8, and Cindy was 6 when they started playing the Brady kids on The Brady Bunch. Cousin Oliver was 8."
   ]
  },
  {
   "cell_type": "code",
   "execution_count": 29,
   "metadata": {},
   "outputs": [
    {
     "name": "stdout",
     "output_type": "stream",
     "text": [
      "            ages\n",
      "count   7.000000\n",
      "mean    9.857143\n",
      "std     2.734262\n",
      "min     6.000000\n",
      "25%     8.000000\n",
      "50%    10.000000\n",
      "75%    11.500000\n",
      "max    14.000000\n",
      "Variance: 7.476190476190475\n",
      "Mean: ages    9.857143\n",
      "dtype: float64 \n",
      " Median: ages    10.0\n",
      "dtype: float64 \n",
      " Mode:    ages\n",
      "0     8\n",
      "Standard Error: 1.0334540197243192\n"
     ]
    }
   ],
   "source": [
    "import pandas as pd\n",
    "import numpy as np\n",
    "import matplotlib as plt\n",
    "names = ['Greg', 'Marcia', 'Peter', 'Jan', 'Bobby','Cindy','Oliver']\n",
    "brady = pd.DataFrame(index=names)\n",
    "brady['ages']=[14,12,11,10,8,6,8]\n",
    "b_mean = brady.mean()\n",
    "b_median = brady.median()\n",
    "b_mode = brady.mode()\n",
    "print(brady.describe())\n",
    "print('Variance:',brady['ages'].var())\n",
    "print('Mean:', b_mean, '\\n',\n",
    "     'Median:', b_median, '\\n',\n",
    "     'Mode:', b_mode)\n",
    "print('Standard Error:', np.std(brady['ages'] ,ddof=1) / np.sqrt(len(brady['ages'])))\n"
   ]
  },
  {
   "cell_type": "markdown",
   "metadata": {},
   "source": [
    "### Measuring Central Tendency and Variance\n",
    "For central tendency I would choose Jan because her age (10) is closest to the mean (9.86).\n",
    "\n",
    "For variance I would choose Bobby or Oliver (both 8) because their ages' are closest to the variance (7.47)."
   ]
  },
  {
   "cell_type": "markdown",
   "metadata": {},
   "source": [
    "### Cindy's Birthday\n",
    "If Cindy had a birthday (from 6 to 7), She would be the chosen for proxomity to variance."
   ]
  },
  {
   "cell_type": "code",
   "execution_count": 32,
   "metadata": {},
   "outputs": [
    {
     "name": "stdout",
     "output_type": "stream",
     "text": [
      "            ages\n",
      "count   7.000000\n",
      "mean   10.000000\n",
      "std     2.516611\n",
      "min     7.000000\n",
      "25%     8.000000\n",
      "50%    10.000000\n",
      "75%    11.500000\n",
      "max    14.000000\n",
      "Variance: 6.333333333333333\n",
      "Mean: ages    10.0\n",
      "dtype: float64 \n",
      " Median: ages    10.0\n",
      "dtype: float64 \n",
      " Mode:    ages\n",
      "0     8\n",
      "Standard Error: 0.9511897312113418\n"
     ]
    }
   ],
   "source": [
    "import pandas as pd\n",
    "import numpy as np\n",
    "import matplotlib as plt\n",
    "names = ['Greg', 'Marcia', 'Peter', 'Jan', 'Bobby','Cindy','Oliver']\n",
    "brady = pd.DataFrame(index=names)\n",
    "brady['ages']=[14,12,11,10,8,7,8]\n",
    "b_mean = brady.mean()\n",
    "b_median = brady.median()\n",
    "b_mode = brady.mode()\n",
    "print(brady.describe())\n",
    "print('Variance:',brady['ages'].var())\n",
    "print('Mean:', b_mean, '\\n',\n",
    "     'Median:', b_median, '\\n',\n",
    "     'Mode:', b_mode)\n",
    "print('Standard Error:', np.std(brady['ages'] ,ddof=1) / np.sqrt(len(brady['ages'])))"
   ]
  },
  {
   "cell_type": "markdown",
   "metadata": {},
   "source": [
    "### Replacing Oliver\n",
    "Replacing Oliver(8) with Jessica(1) shifts the cental tendency down to 9 from 10 and moves the variance to 18."
   ]
  },
  {
   "cell_type": "code",
   "execution_count": 31,
   "metadata": {},
   "outputs": [
    {
     "name": "stdout",
     "output_type": "stream",
     "text": [
      "            ages\n",
      "count   7.000000\n",
      "mean    8.857143\n",
      "std     4.336995\n",
      "min     1.000000\n",
      "25%     7.000000\n",
      "50%    10.000000\n",
      "75%    11.500000\n",
      "max    14.000000\n",
      "Variance: 18.80952380952381\n",
      "Mean: ages    8.857143\n",
      "dtype: float64 \n",
      " Median: ages    10.0\n",
      "dtype: float64 \n",
      " Mode:    ages\n",
      "0     1\n",
      "1     6\n",
      "2     8\n",
      "3    10\n",
      "4    11\n",
      "5    12\n",
      "6    14\n",
      "Standard Error: 1.6392299502912862\n"
     ]
    }
   ],
   "source": [
    "import pandas as pd\n",
    "import numpy as np\n",
    "import matplotlib as plt\n",
    "names = ['Greg', 'Marcia', 'Peter', 'Jan', 'Bobby','Cindy','Jessica']\n",
    "brady = pd.DataFrame(index=names)\n",
    "brady['ages']=[14,12,11,10,8,6,1]\n",
    "b_mean = brady.mean()\n",
    "b_median = brady.median()\n",
    "b_mode = brady.mode()\n",
    "print(brady.describe())\n",
    "print('Variance:',brady['ages'].var())\n",
    "print('Mean:', b_mean, '\\n',\n",
    "     'Median:', b_median, '\\n',\n",
    "     'Mode:', b_mode)\n",
    "print('Standard Error:', np.std(brady['ages'] ,ddof=1) / np.sqrt(len(brady['ages'])))"
   ]
  },
  {
   "cell_type": "markdown",
   "metadata": {},
   "source": [
    "## 50th anniversary\n",
    "On the 50th anniversary of The Brady Bunch, four different magazines asked their readers whether they were fans of the show. The answers were: TV Guide 20% fans Entertainment Weekly 23% fans Pop Culture Today 17% fans SciPhi Phanatic 5% fans"
   ]
  },
  {
   "cell_type": "code",
   "execution_count": 26,
   "metadata": {},
   "outputs": [
    {
     "name": "stdout",
     "output_type": "stream",
     "text": [
      "Variance: 0.0062250000000000005\n"
     ]
    },
    {
     "data": {
      "text/html": [
       "<div>\n",
       "<style scoped>\n",
       "    .dataframe tbody tr th:only-of-type {\n",
       "        vertical-align: middle;\n",
       "    }\n",
       "\n",
       "    .dataframe tbody tr th {\n",
       "        vertical-align: top;\n",
       "    }\n",
       "\n",
       "    .dataframe thead th {\n",
       "        text-align: right;\n",
       "    }\n",
       "</style>\n",
       "<table border=\"1\" class=\"dataframe\">\n",
       "  <thead>\n",
       "    <tr style=\"text-align: right;\">\n",
       "      <th></th>\n",
       "      <th>percentages</th>\n",
       "    </tr>\n",
       "  </thead>\n",
       "  <tbody>\n",
       "    <tr>\n",
       "      <th>count</th>\n",
       "      <td>4.000000</td>\n",
       "    </tr>\n",
       "    <tr>\n",
       "      <th>mean</th>\n",
       "      <td>0.162500</td>\n",
       "    </tr>\n",
       "    <tr>\n",
       "      <th>std</th>\n",
       "      <td>0.078899</td>\n",
       "    </tr>\n",
       "    <tr>\n",
       "      <th>min</th>\n",
       "      <td>0.050000</td>\n",
       "    </tr>\n",
       "    <tr>\n",
       "      <th>25%</th>\n",
       "      <td>0.140000</td>\n",
       "    </tr>\n",
       "    <tr>\n",
       "      <th>50%</th>\n",
       "      <td>0.185000</td>\n",
       "    </tr>\n",
       "    <tr>\n",
       "      <th>75%</th>\n",
       "      <td>0.207500</td>\n",
       "    </tr>\n",
       "    <tr>\n",
       "      <th>max</th>\n",
       "      <td>0.230000</td>\n",
       "    </tr>\n",
       "  </tbody>\n",
       "</table>\n",
       "</div>"
      ],
      "text/plain": [
       "       percentages\n",
       "count     4.000000\n",
       "mean      0.162500\n",
       "std       0.078899\n",
       "min       0.050000\n",
       "25%       0.140000\n",
       "50%       0.185000\n",
       "75%       0.207500\n",
       "max       0.230000"
      ]
     },
     "execution_count": 26,
     "metadata": {},
     "output_type": "execute_result"
    }
   ],
   "source": [
    "mags = ['TV Guide', 'Entertainment Weekly', 'Pop Culture Today', 'SciPhi Phanatic']\n",
    "mags = pd.DataFrame(index=mags)\n",
    "mags['percentages']=[.2,.23,.17,.05]\n",
    "print('Variance:',mags['percentages'].var())\n",
    "mags.describe()"
   ]
  },
  {
   "cell_type": "markdown",
   "metadata": {},
   "source": [
    "Based on the information it couldy be fair to say that 16% of Americans would have been fans of the Brady 50th annivesary event."
   ]
  },
  {
   "cell_type": "markdown",
   "metadata": {},
   "source": [
    "### Without the SciPhi magazine (...with help from hints)\n",
    "Without the data from the SciPhi information the percentage of fans moves to 20% from 16%."
   ]
  },
  {
   "cell_type": "code",
   "execution_count": 27,
   "metadata": {},
   "outputs": [
    {
     "data": {
      "text/html": [
       "<div>\n",
       "<style scoped>\n",
       "    .dataframe tbody tr th:only-of-type {\n",
       "        vertical-align: middle;\n",
       "    }\n",
       "\n",
       "    .dataframe tbody tr th {\n",
       "        vertical-align: top;\n",
       "    }\n",
       "\n",
       "    .dataframe thead th {\n",
       "        text-align: right;\n",
       "    }\n",
       "</style>\n",
       "<table border=\"1\" class=\"dataframe\">\n",
       "  <thead>\n",
       "    <tr style=\"text-align: right;\">\n",
       "      <th></th>\n",
       "      <th>percentages-sciphi</th>\n",
       "    </tr>\n",
       "  </thead>\n",
       "  <tbody>\n",
       "    <tr>\n",
       "      <th>count</th>\n",
       "      <td>3.000</td>\n",
       "    </tr>\n",
       "    <tr>\n",
       "      <th>mean</th>\n",
       "      <td>0.200</td>\n",
       "    </tr>\n",
       "    <tr>\n",
       "      <th>std</th>\n",
       "      <td>0.030</td>\n",
       "    </tr>\n",
       "    <tr>\n",
       "      <th>min</th>\n",
       "      <td>0.170</td>\n",
       "    </tr>\n",
       "    <tr>\n",
       "      <th>25%</th>\n",
       "      <td>0.185</td>\n",
       "    </tr>\n",
       "    <tr>\n",
       "      <th>50%</th>\n",
       "      <td>0.200</td>\n",
       "    </tr>\n",
       "    <tr>\n",
       "      <th>75%</th>\n",
       "      <td>0.215</td>\n",
       "    </tr>\n",
       "    <tr>\n",
       "      <th>max</th>\n",
       "      <td>0.230</td>\n",
       "    </tr>\n",
       "  </tbody>\n",
       "</table>\n",
       "</div>"
      ],
      "text/plain": [
       "       percentages-sciphi\n",
       "count               3.000\n",
       "mean                0.200\n",
       "std                 0.030\n",
       "min                 0.170\n",
       "25%                 0.185\n",
       "50%                 0.200\n",
       "75%                 0.215\n",
       "max                 0.230"
      ]
     },
     "execution_count": 27,
     "metadata": {},
     "output_type": "execute_result"
    }
   ],
   "source": [
    "mags_no_sciphi = ['TV Guide', 'Entertainment Weekly', 'Pop Culture Today']\n",
    "mags_no_sciphi = pd.DataFrame(index=mags_no_sciphi)\n",
    "mags_no_sciphi['percentages-sciphi']=[.2,.23,.17]\n",
    "mags_no_sciphi.describe()"
   ]
  }
 ],
 "metadata": {
  "kernelspec": {
   "display_name": "Python 3",
   "language": "python",
   "name": "python3"
  },
  "language_info": {
   "codemirror_mode": {
    "name": "ipython",
    "version": 3
   },
   "file_extension": ".py",
   "mimetype": "text/x-python",
   "name": "python",
   "nbconvert_exporter": "python",
   "pygments_lexer": "ipython3",
   "version": "3.5.2"
  }
 },
 "nbformat": 4,
 "nbformat_minor": 2
}
